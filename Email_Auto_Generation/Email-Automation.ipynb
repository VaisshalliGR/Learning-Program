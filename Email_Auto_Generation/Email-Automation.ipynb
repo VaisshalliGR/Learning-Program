{
 "cells": [
  {
   "cell_type": "code",
   "execution_count": 1,
   "metadata": {},
   "outputs": [
    {
     "name": "stdout",
     "output_type": "stream",
     "text": [
      "Collecting pyzmail36\n",
      "  Downloading pyzmail36-1.0.4.tar.gz (47 kB)\n",
      "Requirement already satisfied: setuptools in c:\\users\\mdgop\\anaconda3\\lib\\site-packages (from pyzmail36) (50.3.1.post20201107)\n",
      "Building wheels for collected packages: pyzmail36\n",
      "  Building wheel for pyzmail36 (setup.py): started\n",
      "  Building wheel for pyzmail36 (setup.py): finished with status 'done'\n",
      "  Created wheel for pyzmail36: filename=pyzmail36-1.0.4-py3-none-any.whl size=37083 sha256=962ad6a0ab88ab549e17161ca66bf53ac2cfcebf8b948a4b5f543e0c0e6ac2ff\n",
      "  Stored in directory: c:\\users\\mdgop\\appdata\\local\\pip\\cache\\wheels\\31\\94\\b8\\b899e4c384383f0032cd71b41ede5931024830aabf81acb220\n",
      "Successfully built pyzmail36\n",
      "Installing collected packages: pyzmail36\n",
      "Successfully installed pyzmail36-1.0.4\n",
      "Note: you may need to restart the kernel to use updated packages.\n"
     ]
    }
   ],
   "source": [
    "pip install pyzmail36"
   ]
  },
  {
   "cell_type": "code",
   "execution_count": 2,
   "metadata": {},
   "outputs": [
    {
     "name": "stdout",
     "output_type": "stream",
     "text": [
      "Collecting imapclient\n",
      "  Downloading IMAPClient-2.2.0-py2.py3-none-any.whl (179 kB)\n",
      "Requirement already satisfied: six in c:\\users\\mdgop\\anaconda3\\lib\\site-packages (from imapclient) (1.15.0)\n",
      "Installing collected packages: imapclient\n",
      "Successfully installed imapclient-2.2.0\n",
      "Note: you may need to restart the kernel to use updated packages.\n"
     ]
    }
   ],
   "source": [
    "pip install imapclient"
   ]
  },
  {
   "cell_type": "code",
   "execution_count": 15,
   "metadata": {},
   "outputs": [
    {
     "name": "stdout",
     "output_type": "stream",
     "text": [
      "Type your password and press enter:GopiRekha@768129\n"
     ]
    }
   ],
   "source": [
    "import smtplib, ssl\n",
    "port = 587  # For starttls\n",
    "smtp_server = \"smtp.gmail.com\"\n",
    "sender_email = \"vaisshalli2021@gmail.com\"\n",
    "receiver_email = \"vaisshalligopirekha@gmail.com\"\n",
    "password = input(\"Type your password and press enter:\")\n",
    "message = \"\"\"\\\n",
    "Subject: Hi there\n",
    "Im sending an email through python code.\"\"\"\n",
    "context = ssl.create_default_context()\n",
    "with smtplib.SMTP(smtp_server, port) as server:\n",
    "    server.ehlo() \n",
    "    server.starttls(context=context)\n",
    "    server.ehlo() \n",
    "    server.login(sender_email, password)\n",
    "    server.sendmail(sender_email, receiver_email, message) "
   ]
  },
  {
   "cell_type": "code",
   "execution_count": null,
   "metadata": {},
   "outputs": [],
   "source": []
  }
 ],
 "metadata": {
  "kernelspec": {
   "display_name": "Python 3",
   "language": "python",
   "name": "python3"
  },
  "language_info": {
   "codemirror_mode": {
    "name": "ipython",
    "version": 3
   },
   "file_extension": ".py",
   "mimetype": "text/x-python",
   "name": "python",
   "nbconvert_exporter": "python",
   "pygments_lexer": "ipython3",
   "version": "3.8.5"
  }
 },
 "nbformat": 4,
 "nbformat_minor": 4
}
